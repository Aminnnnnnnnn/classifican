{
 "cells": [
  {
   "cell_type": "code",
   "execution_count": 24,
   "id": "lovely-remainder",
   "metadata": {},
   "outputs": [
    {
     "name": "stdout",
     "output_type": "stream",
     "text": [
      "Epoch 1/20\n",
      "2/2 [==============================] - 1s 654ms/step - loss: 0.6878 - accuracy: 0.5885 - val_loss: 0.6023 - val_accuracy: 1.0000\n",
      "Epoch 2/20\n",
      "2/2 [==============================] - 1s 452ms/step - loss: 0.7205 - accuracy: 0.4766 - val_loss: 0.8338 - val_accuracy: 0.0000e+00\n",
      "Epoch 3/20\n",
      "2/2 [==============================] - 1s 458ms/step - loss: 0.6677 - accuracy: 0.6380 - val_loss: 0.8201 - val_accuracy: 0.0000e+00\n",
      "Epoch 4/20\n",
      "2/2 [==============================] - 1s 464ms/step - loss: 0.6653 - accuracy: 0.6224 - val_loss: 0.7676 - val_accuracy: 0.0000e+00\n",
      "Epoch 5/20\n",
      "2/2 [==============================] - 1s 467ms/step - loss: 0.6593 - accuracy: 0.6302 - val_loss: 0.7684 - val_accuracy: 0.0000e+00\n",
      "Epoch 6/20\n",
      "2/2 [==============================] - 1s 467ms/step - loss: 0.6527 - accuracy: 0.6224 - val_loss: 0.8003 - val_accuracy: 0.0000e+00\n",
      "Epoch 7/20\n",
      "2/2 [==============================] - 1s 484ms/step - loss: 0.6358 - accuracy: 0.6250 - val_loss: 0.8136 - val_accuracy: 0.0000e+00\n",
      "Epoch 8/20\n",
      "2/2 [==============================] - 1s 481ms/step - loss: 0.6134 - accuracy: 0.6354 - val_loss: 0.7497 - val_accuracy: 0.0469\n",
      "Epoch 9/20\n",
      "2/2 [==============================] - 1s 485ms/step - loss: 0.5679 - accuracy: 0.6953 - val_loss: 0.6737 - val_accuracy: 0.7656\n",
      "Epoch 10/20\n",
      "2/2 [==============================] - 1s 492ms/step - loss: 0.5392 - accuracy: 0.7734 - val_loss: 0.6207 - val_accuracy: 0.8750\n",
      "Epoch 11/20\n",
      "2/2 [==============================] - 1s 477ms/step - loss: 0.4705 - accuracy: 0.7865 - val_loss: 0.4368 - val_accuracy: 0.9375\n",
      "Epoch 12/20\n",
      "2/2 [==============================] - 1s 537ms/step - loss: 0.4144 - accuracy: 0.8333 - val_loss: 0.4060 - val_accuracy: 0.9219\n",
      "Epoch 13/20\n",
      "2/2 [==============================] - 1s 576ms/step - loss: 0.3755 - accuracy: 0.8099 - val_loss: 0.2773 - val_accuracy: 0.9531\n",
      "Epoch 14/20\n",
      "2/2 [==============================] - 1s 665ms/step - loss: 0.3229 - accuracy: 0.8516 - val_loss: 0.3528 - val_accuracy: 0.9062\n",
      "Epoch 15/20\n",
      "2/2 [==============================] - 1s 620ms/step - loss: 0.2881 - accuracy: 0.8646 - val_loss: 0.2310 - val_accuracy: 0.9531\n",
      "Epoch 16/20\n",
      "2/2 [==============================] - 1s 618ms/step - loss: 0.2819 - accuracy: 0.8646 - val_loss: 0.2457 - val_accuracy: 0.9375\n",
      "Epoch 17/20\n",
      "2/2 [==============================] - 1s 621ms/step - loss: 0.2179 - accuracy: 0.9089 - val_loss: 0.3487 - val_accuracy: 0.8906\n",
      "Epoch 18/20\n",
      "2/2 [==============================] - 1s 621ms/step - loss: 0.1838 - accuracy: 0.9271 - val_loss: 0.2485 - val_accuracy: 0.9375\n",
      "Epoch 19/20\n",
      "2/2 [==============================] - 1s 517ms/step - loss: 0.2121 - accuracy: 0.9115 - val_loss: 1.1876 - val_accuracy: 0.5156\n",
      "Epoch 20/20\n",
      "2/2 [==============================] - 1s 544ms/step - loss: 0.3926 - accuracy: 0.8411 - val_loss: 0.0794 - val_accuracy: 0.9844\n"
     ]
    },
    {
     "data": {
      "text/plain": [
       "<tensorflow.python.keras.callbacks.History at 0x2233a634438>"
      ]
     },
     "execution_count": 24,
     "metadata": {},
     "output_type": "execute_result"
    }
   ],
   "source": [
    "from tensorflow.keras.layers import Dense,Dropout,Activation, Flatten,Conv2D,MaxPooling2D\n",
    "from tensorflow.keras.models import Sequential\n",
    "from keras.optimizers import Adam\n",
    "from keras.regularizers import l2\n",
    "import matplotlib.pyplot as plt\n",
    "import tensorflow as tf\n",
    "import numpy as np\n",
    "import pandas as pd\n",
    "import collections\n",
    "import cv2\n",
    "import os\n",
    "datadir=\"C:/Users/Acer/Desktop/SE modeling/ped-bic/train/\"\n",
    "CATEGORIES=['ped','bic']\n",
    "\n",
    "for category in CATEGORIES:\n",
    "    path=os.path.join(datadir,category)\n",
    "    for img in os.listdir(path):\n",
    "        img_array=cv2.imread(os.path.join(path,img))\n",
    "IMG_SIZE=100\n",
    "training_data=[]\n",
    "def creat_training_data():\n",
    "    for category in CATEGORIES:\n",
    "        path=os.path.join(datadir,category)\n",
    "        class_num=CATEGORIES.index(category)\n",
    "        for img in os.listdir(path):\n",
    "            img_array=cv2.imread(os.path.join(path,img))\n",
    "            new_array=cv2.resize(img_array,(IMG_SIZE,IMG_SIZE))\n",
    "            training_data.append([new_array,class_num])\n",
    "creat_training_data()\n",
    "X_train=[]\n",
    "Y_train=[]\n",
    "for features,label in training_data:\n",
    "    X_train.append(features)\n",
    "    Y_train.append(label)\n",
    "X_train=np.array(X_train).reshape(-1,IMG_SIZE,IMG_SIZE,3)\n",
    "Y_train=np.array(Y_train)\n",
    "X_train = X_train.reshape(X_train.shape[0], 100, 100, 3)\n",
    "X_train=X_train/255\n",
    "model=Sequential()\n",
    "model.add( Conv2D(16,(3,3),input_shape=(100,100,3)) )\n",
    "model.add(Activation(\"relu\"))\n",
    "model.add(MaxPooling2D(pool_size=(2,2),padding='same'))\n",
    "\n",
    "\n",
    "model.add(Conv2D(32,(3,3)))\n",
    "model.add(Activation(\"relu\"))\n",
    "model.add(MaxPooling2D(pool_size=(2,2)))\n",
    "model.add(Dropout(0.25))\n",
    "\n",
    "model.add(Conv2D(64,(3,3)))\n",
    "model.add(Activation(\"relu\"))\n",
    "model.add(MaxPooling2D(pool_size=(2,2)))\n",
    "model.add(Dropout(0.25))\n",
    "\n",
    "model.add(Conv2D(128,(3,3)))\n",
    "model.add(Activation(\"relu\"))\n",
    "model.add(MaxPooling2D(pool_size=(2,2)))\n",
    "\n",
    "model.add(Conv2D(256,(3,3)))\n",
    "model.add(Activation(\"relu\"))\n",
    "model.add(MaxPooling2D(pool_size=(2,2)))\n",
    "model.add(Dropout(0.4))\n",
    "\n",
    "model.add(Flatten())\n",
    "model.add(Dense(512))\n",
    "model.add(Dropout(0.25))\n",
    "\n",
    "model.add(Dense(1))\n",
    "model.add(Activation('sigmoid'))\n",
    "model.compile(loss=\"binary_crossentropy\",\n",
    "             optimizer='Adam',\n",
    "             metrics=['accuracy'])\n",
    "model.fit(X_train,Y_train,batch_size=128,validation_split=0.2,epochs=20)"
   ]
  },
  {
   "cell_type": "code",
   "execution_count": 21,
   "id": "tested-thriller",
   "metadata": {},
   "outputs": [],
   "source": [
    "import pickle"
   ]
  },
  {
   "cell_type": "code",
   "execution_count": 29,
   "id": "mounted-european",
   "metadata": {},
   "outputs": [
    {
     "ename": "PermissionError",
     "evalue": "[Errno 13] Permission denied: 'C:/Users/Acer/Desktop/SE modeling1/'",
     "output_type": "error",
     "traceback": [
      "\u001b[1;31m---------------------------------------------------------------------------\u001b[0m",
      "\u001b[1;31mPermissionError\u001b[0m                           Traceback (most recent call last)",
      "\u001b[1;32m<ipython-input-29-3787ebeba6a8>\u001b[0m in \u001b[0;36m<module>\u001b[1;34m\u001b[0m\n\u001b[1;32m----> 1\u001b[1;33m \u001b[1;32mwith\u001b[0m \u001b[0mopen\u001b[0m\u001b[1;33m(\u001b[0m\u001b[1;34m'C:/Users/Acer/Desktop/SE modeling1/'\u001b[0m\u001b[1;33m,\u001b[0m \u001b[1;34m'wb'\u001b[0m\u001b[1;33m)\u001b[0m \u001b[1;32mas\u001b[0m \u001b[0mpickle_file\u001b[0m\u001b[1;33m:\u001b[0m\u001b[1;33m\u001b[0m\u001b[1;33m\u001b[0m\u001b[0m\n\u001b[0m\u001b[0;32m      2\u001b[0m     \u001b[0mcPickle\u001b[0m\u001b[1;33m.\u001b[0m\u001b[0mdump\u001b[0m\u001b[1;33m(\u001b[0m\u001b[0mmodel\u001b[0m\u001b[1;33m,\u001b[0m \u001b[0mpickle_file\u001b[0m\u001b[1;33m)\u001b[0m\u001b[1;33m\u001b[0m\u001b[1;33m\u001b[0m\u001b[0m\n",
      "\u001b[1;31mPermissionError\u001b[0m: [Errno 13] Permission denied: 'C:/Users/Acer/Desktop/SE modeling1/'"
     ]
    }
   ],
   "source": [
    "with open('C:/Users/Acer/Desktop/SE modeling1/', 'wb') as pickle_file:\n",
    "    cPickle.dump(model, pickle_file)\n"
   ]
  },
  {
   "cell_type": "code",
   "execution_count": null,
   "id": "devoted-glenn",
   "metadata": {},
   "outputs": [],
   "source": [
    "from flask import Flask"
   ]
  },
  {
   "cell_type": "code",
   "execution_count": 4,
   "id": "fiscal-liverpool",
   "metadata": {},
   "outputs": [],
   "source": [
    "app = Flask(__name__)"
   ]
  },
  {
   "cell_type": "code",
   "execution_count": 11,
   "id": "incorrect-surrey",
   "metadata": {},
   "outputs": [
    {
     "name": "stdout",
     "output_type": "stream",
     "text": [
      " * Serving Flask app \"__main__\" (lazy loading)\n",
      " * Environment: production\n",
      "   WARNING: This is a development server. Do not use it in a production deployment.\n",
      "   Use a production WSGI server instead.\n",
      " * Debug mode: on\n"
     ]
    },
    {
     "name": "stderr",
     "output_type": "stream",
     "text": [
      " * Restarting with windowsapi reloader\n"
     ]
    },
    {
     "ename": "SystemExit",
     "evalue": "1",
     "output_type": "error",
     "traceback": [
      "An exception has occurred, use %tb to see the full traceback.\n",
      "\u001b[1;31mSystemExit\u001b[0m\u001b[1;31m:\u001b[0m 1\n"
     ]
    }
   ],
   "source": [
    "@app.route(\"/C:/Users/Acer/Desktop/SE modeling1/\")\n",
    "def hello():\n",
    "    return \"Welcome to machine learning model APIs!\"\n",
    "if __name__ == '__main__':\n",
    "    app.run(debug=True)"
   ]
  },
  {
   "cell_type": "code",
   "execution_count": null,
   "id": "tamil-albert",
   "metadata": {},
   "outputs": [],
   "source": []
  }
 ],
 "metadata": {
  "kernelspec": {
   "display_name": "Python 3",
   "language": "python",
   "name": "python3"
  },
  "language_info": {
   "codemirror_mode": {
    "name": "ipython",
    "version": 3
   },
   "file_extension": ".py",
   "mimetype": "text/x-python",
   "name": "python",
   "nbconvert_exporter": "python",
   "pygments_lexer": "ipython3",
   "version": "3.7.1"
  }
 },
 "nbformat": 4,
 "nbformat_minor": 5
}
